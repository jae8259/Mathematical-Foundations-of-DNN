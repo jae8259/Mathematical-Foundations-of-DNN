{
 "cells": [
  {
   "cell_type": "code",
   "execution_count": 1,
   "metadata": {},
   "outputs": [],
   "source": [
    "from functools import reduce\n",
    "import numpy as np\n",
    "from scipy.linalg import circulant"
   ]
  },
  {
   "cell_type": "code",
   "execution_count": 4,
   "metadata": {},
   "outputs": [],
   "source": [
    "class Convolution1d:\n",
    "    def __init__(self, filt):\n",
    "        self.__filt = filt\n",
    "        self.__r = filt.size\n",
    "        self.T = TransposedConvolution1d(self.__filt)\n",
    "    def __matmul__(self, vector):\n",
    "        r, n = self.__r, vector.size\n",
    "        return np.asarray(\n",
    "            [sum(self.__filt * vector[j : j + r]) for j in range(n - r + 1)]\n",
    "        )\n",
    "\n",
    "class TransposedConvolution1d:\n",
    "    \"\"\"\n",
    "    Transpose of 1-dimensional convolution operator used for the\n",
    "    transpose-convolution operation A.T@(...)\n",
    "    \"\"\"\n",
    "    def __init__(self, filt):\n",
    "        self.__filt = filt\n",
    "        self.__r = filt.size\n",
    "    def __matmul__(self, vector):\n",
    "        r = self.__r\n",
    "        n = vector.size + r - 1\n",
    "        return np.asarray(\n",
    "            [\n",
    "                sum(\n",
    "                    np.flip(self.__filt)[max(0, r - j - 1) : min(n - j, r)]\n",
    "                    * vector[max(0, j - r + 1) : min(j + 1, n - r + 1)]\n",
    "                )\n",
    "                for j in range(n)\n",
    "            ]\n",
    "        )\n",
    "def huber_loss(x):\n",
    "    return np.sum(\n",
    "        (1 / 2) * (x**2) * (np.abs(x) <= 1)\n",
    "        + (np.sign(x) * x - 1 / 2) * (np.abs(x) > 1)\n",
    "    )\n",
    "\n",
    "def huber_grad(x):\n",
    "    return x * (np.abs(x) <= 1) + np.sign(x) * (np.abs(x) > 1)"
   ]
  },
  {
   "cell_type": "code",
   "execution_count": 6,
   "metadata": {},
   "outputs": [
    {
     "name": "stdout",
     "output_type": "stream",
     "text": [
      "Efficient way loss: 0.4587586843129764\n",
      "Inefficient way loss: 0.4587586843129765\n"
     ]
    }
   ],
   "source": [
    "r, n, lam = 3, 20, 0.1\n",
    "\n",
    "np.random.seed(0)\n",
    "k = np.random.randn(r)\n",
    "b = np.random.randn(n - r + 1)\n",
    "A = Convolution1d(k)\n",
    "B = circulant(np.concatenate((np.flip(k), np.zeros(n - r))))[r - 1 :, :]\n",
    "x = np.zeros(n)\n",
    "y = np.zeros(n)\n",
    "alpha = 0.01\n",
    "\n",
    "for _ in range(100):\n",
    "    x = x - alpha * (A.T @ (huber_grad(A @ x - b)) + lam * x)\n",
    "    y = y - alpha * (B.T @ (huber_grad(B @ y - b)) + lam * y)\n",
    "\n",
    "print(f'Efficient way loss: {huber_loss(A @ x - b) + 0.5 * lam * np.linalg.norm(x) ** 2}')\n",
    "print(f'Inefficient way loss: {huber_loss(B @ x - b) + 0.5 * lam * np.linalg.norm(y) ** 2}')\n"
   ]
  }
 ],
 "metadata": {
  "kernelspec": {
   "display_name": "Python 3 (ipykernel)",
   "language": "python",
   "name": "python3"
  },
  "language_info": {
   "codemirror_mode": {
    "name": "ipython",
    "version": 3
   },
   "file_extension": ".py",
   "mimetype": "text/x-python",
   "name": "python",
   "nbconvert_exporter": "python",
   "pygments_lexer": "ipython3",
   "version": "3.9.5"
  },
  "vscode": {
   "interpreter": {
    "hash": "3a8a916867c1a9da26629b177fb676728ad2a0265b74a3da8ba357703a56bd5b"
   }
  }
 },
 "nbformat": 4,
 "nbformat_minor": 2
}
